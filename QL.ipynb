{
 "cells": [
  {
   "cell_type": "markdown",
   "metadata": {},
   "source": [
    "# Q-Learning based RL agent\n",
    "\n",
    "Requirements:\n",
    ">Numpy\n",
    "\n",
    "We're going to create two different environments for our QL agent \n",
    "> A pickup and delivery env \n",
    "\n",
    "> A maze env\n"
   ]
  },
  {
   "cell_type": "code",
   "execution_count": 1,
   "metadata": {},
   "outputs": [],
   "source": [
    "import numpy as np\n",
    "from random import randint, random, uniform"
   ]
  },
  {
   "cell_type": "markdown",
   "metadata": {},
   "source": [
    "# The Pickup and Delivery environment\n",
    "\n",
    "#### Actions:\n",
    "0 : move up\n",
    "\n",
    "1 : move down\n",
    "\n",
    "2 : move left\n",
    "\n",
    "3 : move right\n",
    "\n",
    "4 : pick up\n",
    "\n",
    "5 : deliver\n",
    "\n",
    "reward for legal moves : -1\n",
    "\n",
    "reward for trying to go off the boundary : -30\n",
    "\n",
    "reward for trying to pickup a thing when it has already been picked up or if it was not in place : -10\n",
    "\n",
    "reward for picking the item correctly : 50\n",
    "\n",
    "reward for deliverying correctly : 50\n",
    "\n",
    "reward for trying to deliver at the wrong place : -30"
   ]
  },
  {
   "cell_type": "code",
   "execution_count": 2,
   "metadata": {},
   "outputs": [],
   "source": [
    "class PDE:\n",
    "    \n",
    "    def __init__(self,size,pickup,delivery,agent_position):\n",
    "        self.size = size\n",
    "        self.pickup = pickup\n",
    "        self.delivery = delivery\n",
    "        self.position = agent_position\n",
    "        \n",
    "        self.item_picked_up = False \n",
    "        \n",
    "    def number_of_states_possible(self):\n",
    "        return self.size**4 * 2\n",
    "    \n",
    "    def state(self):\n",
    "        states = self.position[0]* self.size ** 3 * 2\n",
    "        states += self.position[1]* self.size ** 2 * 2\n",
    "        states += self.pickup[0]* self.size** 1 * 2\n",
    "        states += self.pickup[1]* 2\n",
    "\n",
    "        if self.item_picked_up:\n",
    "            states += 1\n",
    "        return states\n",
    "        \n",
    "    \n",
    "    def act(self,action):\n",
    "        (x,y) = self.position\n",
    "        \n",
    "        if action == 0:  # go up\n",
    "            if y == 0 : \n",
    "                return -30 , False \n",
    "            else :\n",
    "                self.position = (x,y-1)\n",
    "                return -1, False\n",
    "            \n",
    "        elif action == 1:  # go down\n",
    "            if y == self.size -1 :\n",
    "                return -30 , False \n",
    "            else :\n",
    "                self.position = (x,y+1)\n",
    "                return -1 , False\n",
    "            \n",
    "        elif action == 2:  # go left\n",
    "            if x == 0:\n",
    "                return -30 , False \n",
    "            else : \n",
    "                self.position = (x-1,y)\n",
    "                return -1, False \n",
    "             \n",
    "        elif action == 3:  # go right\n",
    "            if x == self.size -1:\n",
    "                return -30, False \n",
    "            else :\n",
    "                self.position = (x+1,y)\n",
    "                return -1 , False \n",
    "            \n",
    "        elif action == 4 :  # pickup item\n",
    "            if self.item_picked_up:\n",
    "                return -10 , False \n",
    "            elif (x,y) != self.pickup:\n",
    "                return -10, False \n",
    "            else:\n",
    "                self.item_picked_up = True\n",
    "                return 50, False \n",
    "            \n",
    "        else : # deliver item\n",
    "            if self.item_picked_up and self.position == self.delivery:\n",
    "                return 50 , True\n",
    "            elif self.item_picked_up and self.position != self.delivery:\n",
    "                self.pickup = (x,y)\n",
    "                self.item_picked_up = False\n",
    "                return -30 , False \n",
    "            else:\n",
    "                return -30, False \n",
    "            \n",
    "            \n",
    "    \n",
    "    def naive_solution_to_test_actions(self):\n",
    "        done = False \n",
    "        steps = 0 \n",
    "        while not done:\n",
    "            reward , done = self.act(randint(0,5))\n",
    "            steps += 1\n",
    "        return steps"
   ]
  },
  {
   "cell_type": "code",
   "execution_count": 3,
   "metadata": {},
   "outputs": [],
   "source": [
    "env = PDE(10,(0,0),(9,9),(9,0))"
   ]
  },
  {
   "cell_type": "code",
   "execution_count": 4,
   "metadata": {},
   "outputs": [
    {
     "data": {
      "text/plain": [
       "171900"
      ]
     },
     "execution_count": 4,
     "metadata": {},
     "output_type": "execute_result"
    }
   ],
   "source": [
    "env.naive_solution_to_test_actions()"
   ]
  },
  {
   "cell_type": "markdown",
   "metadata": {},
   "source": [
    "# There can be different states in the env\n",
    "What are the states variables here?? \n",
    "> the start , the end , item_picked_up , the agent position"
   ]
  },
  {
   "cell_type": "code",
   "execution_count": 5,
   "metadata": {},
   "outputs": [
    {
     "name": "stdout",
     "output_type": "stream",
     "text": [
      "19957\n"
     ]
    }
   ],
   "source": [
    "print(env.state())"
   ]
  },
  {
   "cell_type": "code",
   "execution_count": 6,
   "metadata": {},
   "outputs": [
    {
     "data": {
      "text/plain": [
       "20000"
      ]
     },
     "execution_count": 6,
     "metadata": {},
     "output_type": "execute_result"
    }
   ],
   "source": [
    "env.number_of_states_possible()"
   ]
  },
  {
   "cell_type": "markdown",
   "metadata": {},
   "source": [
    "#### Algorithm\n",
    "- Initialise the **Q-table** to all zeros\n",
    "- Iterate\n",
    "    - Agent is in state **state**.\n",
    "    - With probability **epsilon** choose to **explore**, else **exploit**.\n",
    "        - If **explore**, then choose a *random* **action**.\n",
    "        - If **exploit**, then choose the *best* **action** based on the current **Q-table**.\n",
    "    - Update the **Q-table** from the new **reward** to the previous state.\n",
    "    - Q[**state, action**] = (1 – **alpha**) * Q[**state, action**] + **alpha** * (**reward + gamma** * max(Q[**new_state**]) — Q[**state, action**])"
   ]
  },
  {
   "cell_type": "markdown",
   "metadata": {},
   "source": [
    "# Rough implementation of qlearning algo"
   ]
  },
  {
   "cell_type": "code",
   "execution_count": 7,
   "metadata": {},
   "outputs": [],
   "source": [
    "env = env"
   ]
  },
  {
   "cell_type": "code",
   "execution_count": 8,
   "metadata": {},
   "outputs": [],
   "source": [
    "epsilon = 0.1 \n",
    "gamma = 0.6\n",
    "alpha = 0.1"
   ]
  },
  {
   "cell_type": "code",
   "execution_count": 9,
   "metadata": {},
   "outputs": [],
   "source": [
    "ns = env.number_of_states_possible()\n",
    "na = 6 \n",
    "\n",
    "qtable = np.zeros((ns,na))\n",
    "\n",
    "for i in range(100):\n",
    "    \n",
    "    env = PDE(10,(0,0),(9,9),(9,0))\n",
    "    done = False\n",
    "    steps = 0 \n",
    "    while not done:\n",
    "        state = env.state()\n",
    "        if uniform(0,1) < epsilon:\n",
    "            action = randint(0,5)\n",
    "        else:\n",
    "            action = np.argmax(qtable[state])\n",
    "\n",
    "        # now that the action is set , act\n",
    "        reward , done = env.act(action)\n",
    "\n",
    "        # get the new state after action is done \n",
    "        new_state = env.state()\n",
    "\n",
    "        # now comes the beast in all this. the equation\n",
    "\n",
    "        qtable[state,action] = (1-alpha) * qtable[state,action] + alpha * (reward + (gamma * np.max(qtable[new_state]) )- qtable[state,action])\n",
    "        \n",
    "        steps += 1"
   ]
  },
  {
   "cell_type": "markdown",
   "metadata": {},
   "source": [
    "# Implementing the q_learnging function "
   ]
  },
  {
   "cell_type": "code",
   "execution_count": 59,
   "metadata": {},
   "outputs": [],
   "source": [
    "def q_learn(ns, na, size = 10 ,start = (0,6) ,end = (0,1) ,current_position = (0,4) , epsilon = 0.1 , alpha = 0.1, gamma = 0.99, epochs = 10,verbose =False):\n",
    "    \n",
    "    \n",
    "    qtable = np.zeros((ns,na))\n",
    "    \n",
    "    steps = [] \n",
    "    \n",
    "    for i in range(epochs):\n",
    "        \n",
    "        if verbose :\n",
    "            if i % verbose == 0 :\n",
    "                try :\n",
    "                    print(f'epoch {i} : steps on episode {i} = {steps[-1]}')\n",
    "                except:\n",
    "                    pass\n",
    "                \n",
    "        \n",
    "        # Create a new state every time \n",
    "        \n",
    "        env = PDE(size,start,end,current_position)\n",
    "        done = False \n",
    "        \n",
    "        step = 0\n",
    "        while not done:\n",
    "\n",
    "            state = env.state()\n",
    "            \n",
    "            if uniform(0,1)< epsilon:\n",
    "                action = randint(0,5)\n",
    "            else:\n",
    "                action = np.argmax(qtable[state])\n",
    "            \n",
    "                # now that the action is set , act\n",
    "            reward , done = env.act(action)\n",
    "\n",
    "            # get the new state after action is done \n",
    "            new_state = env.state()\n",
    "\n",
    "            # now comes the beast in all this. the equation\n",
    "\n",
    "            qtable[state,action] = (1-alpha) * qtable[state,action] + alpha * (reward + (gamma * np.max(qtable[new_state]) )- qtable[state,action])\n",
    "\n",
    "            if done:\n",
    "                step += 1\n",
    "                steps.append(step)\n",
    "            else:\n",
    "                step += 1\n",
    "                \n",
    "    return steps, qtable\n"
   ]
  },
  {
   "cell_type": "code",
   "execution_count": 60,
   "metadata": {},
   "outputs": [
    {
     "data": {
      "text/plain": [
       "array([[ -4.64270541,   0.54295734,  -5.61318515,   0.78169278,\n",
       "         24.78626898,  -6.67590379],\n",
       "       [ -8.94990886,  -0.71262452, -11.18690108,  -0.7126783 ,\n",
       "         -3.83068422,  -4.4509498 ],\n",
       "       [ -3.        ,  -0.1       ,   0.        ,   0.        ,\n",
       "          0.        ,   0.        ],\n",
       "       ...,\n",
       "       [ -0.1       ,  -3.        ,  -0.1       ,  -3.89832413,\n",
       "         -1.        ,  31.3909368 ],\n",
       "       [  0.        ,   0.        ,   0.        ,   0.        ,\n",
       "          0.        ,   0.        ],\n",
       "       [  0.        ,   0.        ,   0.        ,   0.        ,\n",
       "          0.        ,   0.        ]])"
      ]
     },
     "execution_count": 60,
     "metadata": {},
     "output_type": "execute_result"
    }
   ],
   "source": [
    "qtable"
   ]
  },
  {
   "cell_type": "code",
   "execution_count": 61,
   "metadata": {},
   "outputs": [
    {
     "name": "stdout",
     "output_type": "stream",
     "text": [
      "epoch 1 : steps on episode 1 = 391\n",
      "epoch 2 : steps on episode 2 = 213\n",
      "epoch 3 : steps on episode 3 = 641\n",
      "epoch 4 : steps on episode 4 = 398\n",
      "epoch 5 : steps on episode 5 = 110\n",
      "epoch 6 : steps on episode 6 = 665\n",
      "epoch 7 : steps on episode 7 = 171\n",
      "epoch 8 : steps on episode 8 = 303\n",
      "epoch 9 : steps on episode 9 = 520\n"
     ]
    },
    {
     "data": {
      "text/plain": [
       "[391, 213, 641, 398, 110, 665, 171, 303, 520, 150]"
      ]
     },
     "execution_count": 61,
     "metadata": {},
     "output_type": "execute_result"
    }
   ],
   "source": [
    "training_on_10_epoch, qt = q_learn(env.number_of_states_possible(),6,verbose= 1)\n",
    "training_on_10_epoch"
   ]
  },
  {
   "cell_type": "code",
   "execution_count": 62,
   "metadata": {},
   "outputs": [
    {
     "name": "stdout",
     "output_type": "stream",
     "text": [
      "356.2\n"
     ]
    }
   ],
   "source": [
    "print(sum(training_on_10_epoch) / 10)"
   ]
  },
  {
   "cell_type": "code",
   "execution_count": 74,
   "metadata": {},
   "outputs": [],
   "source": [
    "# training the model for 10000 epochs or episodes\n",
    "# training_on_10k_epoch,qtbl = q_learn(env.number_of_states_possible(),6,epochs=100000)"
   ]
  },
  {
   "cell_type": "code",
   "execution_count": 72,
   "metadata": {},
   "outputs": [
    {
     "name": "stdout",
     "output_type": "stream",
     "text": [
      "11.11243\n"
     ]
    }
   ],
   "source": [
    "print(sum(training_on_10k_epoch)/100000)"
   ]
  },
  {
   "cell_type": "markdown",
   "metadata": {},
   "source": [
    "# Plotting the data obtained from the model"
   ]
  },
  {
   "cell_type": "code",
   "execution_count": 65,
   "metadata": {},
   "outputs": [],
   "source": [
    "import matplotlib.pyplot as plt"
   ]
  },
  {
   "cell_type": "code",
   "execution_count": 66,
   "metadata": {},
   "outputs": [
    {
     "data": {
      "text/plain": [
       "[<matplotlib.lines.Line2D at 0x17556efcf10>]"
      ]
     },
     "execution_count": 66,
     "metadata": {},
     "output_type": "execute_result"
    },
    {
     "data": {
      "image/png": "[encoded data removed]",
      "text/plain": [
       "<Figure size 432x288 with 1 Axes>"
      ]
     },
     "metadata": {
      "needs_background": "light"
     },
     "output_type": "display_data"
    }
   ],
   "source": [
    "plt.plot(training_on_10_epoch)"
   ]
  },
  {
   "cell_type": "code",
   "execution_count": 73,
   "metadata": {},
   "outputs": [
    {
     "data": {
      "text/plain": [
       "[<matplotlib.lines.Line2D at 0x17556e3d340>]"
      ]
     },
     "execution_count": 73,
     "metadata": {},
     "output_type": "execute_result"
    },
    {
     "data": {
      "image/png": "[encoded data removed]",
      "text/plain": [
       "<Figure size 432x288 with 1 Axes>"
      ]
     },
     "metadata": {
      "needs_background": "light"
     },
     "output_type": "display_data"
    }
   ],
   "source": [
    "plt.plot(training_on_10k_epoch)"
   ]
  },
  {
   "cell_type": "code",
   "execution_count": 68,
   "metadata": {},
   "outputs": [],
   "source": [
    "\n",
    "\n",
    "def save_model(qt,file='ql-model.dat'):\n",
    "    import pickle as pil\n",
    "    with open(file,'w') as file:\n",
    "        file.write(pickle.dump(qt))\n",
    "        return True\n",
    "    \n",
    "    \n",
    "def load_model(file):\n",
    "    try:\n",
    "        with open(file,'rb+') as file:\n",
    "            data = pil.load(file)\n",
    "    except:\n",
    "        raise \"Error loading files\"\n",
    "    return data \n"
   ]
  },
  {
   "cell_type": "markdown",
   "metadata": {},
   "source": [
    "# trying the model on an unseen point data.\n",
    "\n",
    "size = 6 \n",
    "\n",
    "***ideal amount of steps =  8 ~ 10***"
   ]
  },
  {
   "cell_type": "code",
   "execution_count": 69,
   "metadata": {},
   "outputs": [
    {
     "name": "stdout",
     "output_type": "stream",
     "text": [
      "2212 \\  2592\n"
     ]
    }
   ],
   "source": [
    "env1 = PDE(6,(4,2),(5,5),(5,0))\n",
    "ns = env1.number_of_states_possible()\n",
    "na = 6\n",
    "print(env1.state(),'\\ ',ns)"
   ]
  },
  {
   "cell_type": "code",
   "execution_count": 75,
   "metadata": {},
   "outputs": [],
   "source": [
    "steps , qt = q_learn(ns,6,size = 6,start = (4,5) ,end=(5,5), current_position=(0,0),epochs = 10000)"
   ]
  },
  {
   "cell_type": "code",
   "execution_count": 76,
   "metadata": {},
   "outputs": [
    {
     "name": "stdout",
     "output_type": "stream",
     "text": [
      "145.784\n"
     ]
    }
   ],
   "source": [
    "print(sum(steps)/1000)"
   ]
  },
  {
   "cell_type": "code",
   "execution_count": 38,
   "metadata": {},
   "outputs": [
    {
     "data": {
      "text/plain": [
       "(2592, 6)"
      ]
     },
     "execution_count": 38,
     "metadata": {},
     "output_type": "execute_result"
    }
   ],
   "source": [
    "qt.shape"
   ]
  },
  {
   "cell_type": "code",
   "execution_count": 22,
   "metadata": {},
   "outputs": [
    {
     "data": {
      "text/plain": [
       "20295"
      ]
     },
     "execution_count": 22,
     "metadata": {},
     "output_type": "execute_result"
    }
   ],
   "source": [
    "env1.naive_solution_to_test_actions()"
   ]
  },
  {
   "cell_type": "code",
   "execution_count": 23,
   "metadata": {},
   "outputs": [],
   "source": [
    "# for this problem, our model works ~ 980 % better than the naive solution to the problem"
   ]
  },
  {
   "cell_type": "markdown",
   "metadata": {},
   "source": [
    "# Practical implementation on a new data point but in a board of the same dimensions as which the model was trained on."
   ]
  },
  {
   "cell_type": "code",
   "execution_count": 79,
   "metadata": {},
   "outputs": [],
   "source": [
    "def predict(qtable,size,start, end, current):\n",
    "    \n",
    "    done = False \n",
    "    step = 0\n",
    "    env = PDE(size , start , end, current)\n",
    "    \n",
    "    \n",
    "    for i in range (100):\n",
    "        state = env.state()\n",
    "        print(state ,' is the state')\n",
    "        print(qtable[state])\n",
    "        \n",
    "        action = np.argmax(qtable[state ])\n",
    "        print('doing ',action)\n",
    "        \n",
    "        print('done ',done,'\\n')\n",
    "                \n",
    "        # now that the action is set , act\n",
    "        reward , done = env.act(action)\n",
    "        \n",
    "        step += 1\n",
    "        \n",
    "    return step\n",
    "\n",
    "        \n",
    "        "
   ]
  },
  {
   "cell_type": "code",
   "execution_count": 81,
   "metadata": {},
   "outputs": [
    {
     "name": "stdout",
     "output_type": "stream",
     "text": [
      "58  is the state\n",
      "[-15.45665052  -0.9225263  -15.45665052  -0.9225263   -5.45665052\n",
      " -15.45665052]\n",
      "doing  3\n",
      "done  False \n",
      "\n",
      "490  is the state\n",
      "[-13.33837223  -0.85358849  -0.94782094  -0.88083841  -5.29721635\n",
      " -12.80619575]\n",
      "doing  5\n",
      "done  False \n",
      "\n",
      "490  is the state\n",
      "[-13.33837223  -0.85358849  -0.94782094  -0.88083841  -5.29721635\n",
      " -12.80619575]\n",
      "doing  5\n",
      "done  False \n",
      "\n",
      "490  is the state\n",
      "[-13.33837223  -0.85358849  -0.94782094  -0.88083841  -5.29721635\n",
      " -12.80619575]\n",
      "doing  5\n",
      "done  False \n",
      "\n",
      "490  is the state\n",
      "[-13.33837223  -0.85358849  -0.94782094  -0.88083841  -5.29721635\n",
      " -12.80619575]\n",
      "doing  5\n",
      "done  False \n",
      "\n",
      "490  is the state\n",
      "[-13.33837223  -0.85358849  -0.94782094  -0.88083841  -5.29721635\n",
      " -12.80619575]\n",
      "doing  5\n",
      "done  False \n",
      "\n",
      "490  is the state\n",
      "[-13.33837223  -0.85358849  -0.94782094  -0.88083841  -5.29721635\n",
      " -12.80619575]\n",
      "doing  5\n",
      "done  False \n",
      "\n",
      "490  is the state\n",
      "[-13.33837223  -0.85358849  -0.94782094  -0.88083841  -5.29721635\n",
      " -12.80619575]\n",
      "doing  5\n",
      "done  False \n",
      "\n",
      "490  is the state\n",
      "[-13.33837223  -0.85358849  -0.94782094  -0.88083841  -5.29721635\n",
      " -12.80619575]\n",
      "doing  5\n",
      "done  False \n",
      "\n",
      "490  is the state\n",
      "[-13.33837223  -0.85358849  -0.94782094  -0.88083841  -5.29721635\n",
      " -12.80619575]\n",
      "doing  5\n",
      "done  False \n",
      "\n",
      "490  is the state\n",
      "[-13.33837223  -0.85358849  -0.94782094  -0.88083841  -5.29721635\n",
      " -12.80619575]\n",
      "doing  5\n",
      "done  False \n",
      "\n",
      "490  is the state\n",
      "[-13.33837223  -0.85358849  -0.94782094  -0.88083841  -5.29721635\n",
      " -12.80619575]\n",
      "doing  5\n",
      "done  False \n",
      "\n",
      "490  is the state\n",
      "[-13.33837223  -0.85358849  -0.94782094  -0.88083841  -5.29721635\n",
      " -12.80619575]\n",
      "doing  5\n",
      "done  False \n",
      "\n",
      "490  is the state\n",
      "[-13.33837223  -0.85358849  -0.94782094  -0.88083841  -5.29721635\n",
      " -12.80619575]\n",
      "doing  5\n",
      "done  False \n",
      "\n",
      "490  is the state\n",
      "[-13.33837223  -0.85358849  -0.94782094  -0.88083841  -5.29721635\n",
      " -12.80619575]\n",
      "doing  5\n",
      "done  False \n",
      "\n",
      "490  is the state\n",
      "[-13.33837223  -0.85358849  -0.94782094  -0.88083841  -5.29721635\n",
      " -12.80619575]\n",
      "doing  5\n",
      "done  False \n",
      "\n",
      "490  is the state\n",
      "[-13.33837223  -0.85358849  -0.94782094  -0.88083841  -5.29721635\n",
      " -12.80619575]\n",
      "doing  5\n",
      "done  False \n",
      "\n",
      "490  is the state\n",
      "[-13.33837223  -0.85358849  -0.94782094  -0.88083841  -5.29721635\n",
      " -12.80619575]\n",
      "doing  5\n",
      "done  False \n",
      "\n",
      "490  is the state\n",
      "[-13.33837223  -0.85358849  -0.94782094  -0.88083841  -5.29721635\n",
      " -12.80619575]\n",
      "doing  5\n",
      "done  False \n",
      "\n",
      "490  is the state\n",
      "[-13.33837223  -0.85358849  -0.94782094  -0.88083841  -5.29721635\n",
      " -12.80619575]\n",
      "doing  5\n",
      "done  False \n",
      "\n",
      "490  is the state\n",
      "[-13.33837223  -0.85358849  -0.94782094  -0.88083841  -5.29721635\n",
      " -12.80619575]\n",
      "doing  5\n",
      "done  False \n",
      "\n",
      "490  is the state\n",
      "[-13.33837223  -0.85358849  -0.94782094  -0.88083841  -5.29721635\n",
      " -12.80619575]\n",
      "doing  5\n",
      "done  False \n",
      "\n",
      "490  is the state\n",
      "[-13.33837223  -0.85358849  -0.94782094  -0.88083841  -5.29721635\n",
      " -12.80619575]\n",
      "doing  5\n",
      "done  False \n",
      "\n",
      "490  is the state\n",
      "[-13.33837223  -0.85358849  -0.94782094  -0.88083841  -5.29721635\n",
      " -12.80619575]\n",
      "doing  5\n",
      "done  False \n",
      "\n",
      "490  is the state\n",
      "[-13.33837223  -0.85358849  -0.94782094  -0.88083841  -5.29721635\n",
      " -12.80619575]\n",
      "doing  5\n",
      "done  False \n",
      "\n",
      "490  is the state\n",
      "[-13.33837223  -0.85358849  -0.94782094  -0.88083841  -5.29721635\n",
      " -12.80619575]\n",
      "doing  5\n",
      "done  False \n",
      "\n",
      "490  is the state\n",
      "[-13.33837223  -0.85358849  -0.94782094  -0.88083841  -5.29721635\n",
      " -12.80619575]\n",
      "doing  5\n",
      "done  False \n",
      "\n",
      "490  is the state\n",
      "[-13.33837223  -0.85358849  -0.94782094  -0.88083841  -5.29721635\n",
      " -12.80619575]\n",
      "doing  5\n",
      "done  False \n",
      "\n",
      "490  is the state\n",
      "[-13.33837223  -0.85358849  -0.94782094  -0.88083841  -5.29721635\n",
      " -12.80619575]\n",
      "doing  5\n",
      "done  False \n",
      "\n",
      "490  is the state\n",
      "[-13.33837223  -0.85358849  -0.94782094  -0.88083841  -5.29721635\n",
      " -12.80619575]\n",
      "doing  5\n",
      "done  False \n",
      "\n",
      "490  is the state\n",
      "[-13.33837223  -0.85358849  -0.94782094  -0.88083841  -5.29721635\n",
      " -12.80619575]\n",
      "doing  5\n",
      "done  False \n",
      "\n",
      "490  is the state\n",
      "[-13.33837223  -0.85358849  -0.94782094  -0.88083841  -5.29721635\n",
      " -12.80619575]\n",
      "doing  5\n",
      "done  False \n",
      "\n",
      "490  is the state\n",
      "[-13.33837223  -0.85358849  -0.94782094  -0.88083841  -5.29721635\n",
      " -12.80619575]\n",
      "doing  5\n",
      "done  False \n",
      "\n",
      "490  is the state\n",
      "[-13.33837223  -0.85358849  -0.94782094  -0.88083841  -5.29721635\n",
      " -12.80619575]\n",
      "doing  5\n",
      "done  False \n",
      "\n",
      "490  is the state\n",
      "[-13.33837223  -0.85358849  -0.94782094  -0.88083841  -5.29721635\n",
      " -12.80619575]\n",
      "doing  5\n",
      "done  False \n",
      "\n",
      "490  is the state\n",
      "[-13.33837223  -0.85358849  -0.94782094  -0.88083841  -5.29721635\n",
      " -12.80619575]\n",
      "doing  5\n",
      "done  False \n",
      "\n",
      "490  is the state\n",
      "[-13.33837223  -0.85358849  -0.94782094  -0.88083841  -5.29721635\n",
      " -12.80619575]\n",
      "doing  5\n",
      "done  False \n",
      "\n",
      "490  is the state\n",
      "[-13.33837223  -0.85358849  -0.94782094  -0.88083841  -5.29721635\n",
      " -12.80619575]\n",
      "doing  5\n",
      "done  False \n",
      "\n",
      "490  is the state\n",
      "[-13.33837223  -0.85358849  -0.94782094  -0.88083841  -5.29721635\n",
      " -12.80619575]\n",
      "doing  5\n",
      "done  False \n",
      "\n",
      "490  is the state\n",
      "[-13.33837223  -0.85358849  -0.94782094  -0.88083841  -5.29721635\n",
      " -12.80619575]\n",
      "doing  5\n",
      "done  False \n",
      "\n",
      "490  is the state\n",
      "[-13.33837223  -0.85358849  -0.94782094  -0.88083841  -5.29721635\n",
      " -12.80619575]\n",
      "doing  5\n",
      "done  False \n",
      "\n",
      "490  is the state\n",
      "[-13.33837223  -0.85358849  -0.94782094  -0.88083841  -5.29721635\n",
      " -12.80619575]\n",
      "doing  5\n",
      "done  False \n",
      "\n",
      "490  is the state\n",
      "[-13.33837223  -0.85358849  -0.94782094  -0.88083841  -5.29721635\n",
      " -12.80619575]\n",
      "doing  5\n",
      "done  False \n",
      "\n",
      "490  is the state\n",
      "[-13.33837223  -0.85358849  -0.94782094  -0.88083841  -5.29721635\n",
      " -12.80619575]\n",
      "doing  5\n",
      "done  False \n",
      "\n",
      "490  is the state\n",
      "[-13.33837223  -0.85358849  -0.94782094  -0.88083841  -5.29721635\n",
      " -12.80619575]\n",
      "doing  5\n",
      "done  False \n",
      "\n",
      "490  is the state\n",
      "[-13.33837223  -0.85358849  -0.94782094  -0.88083841  -5.29721635\n",
      " -12.80619575]\n",
      "doing  5\n",
      "done  False \n",
      "\n",
      "490  is the state\n",
      "[-13.33837223  -0.85358849  -0.94782094  -0.88083841  -5.29721635\n",
      " -12.80619575]\n",
      "doing  5\n",
      "done  False \n",
      "\n",
      "490  is the state\n",
      "[-13.33837223  -0.85358849  -0.94782094  -0.88083841  -5.29721635\n",
      " -12.80619575]\n",
      "doing  5\n",
      "done  False \n",
      "\n",
      "490  is the state\n",
      "[-13.33837223  -0.85358849  -0.94782094  -0.88083841  -5.29721635\n",
      " -12.80619575]\n",
      "doing  5\n",
      "done  False \n",
      "\n",
      "490  is the state\n",
      "[-13.33837223  -0.85358849  -0.94782094  -0.88083841  -5.29721635\n",
      " -12.80619575]\n",
      "doing  5\n",
      "done  False \n",
      "\n",
      "490  is the state\n",
      "[-13.33837223  -0.85358849  -0.94782094  -0.88083841  -5.29721635\n",
      " -12.80619575]\n",
      "doing  5\n",
      "done  False \n",
      "\n",
      "490  is the state\n",
      "[-13.33837223  -0.85358849  -0.94782094  -0.88083841  -5.29721635\n",
      " -12.80619575]\n",
      "doing  5\n",
      "done  False \n",
      "\n",
      "490  is the state\n",
      "[-13.33837223  -0.85358849  -0.94782094  -0.88083841  -5.29721635\n",
      " -12.80619575]\n",
      "doing  5\n",
      "done  False \n",
      "\n",
      "490  is the state\n",
      "[-13.33837223  -0.85358849  -0.94782094  -0.88083841  -5.29721635\n",
      " -12.80619575]\n",
      "doing  5\n",
      "done  False \n",
      "\n",
      "490  is the state\n",
      "[-13.33837223  -0.85358849  -0.94782094  -0.88083841  -5.29721635\n",
      " -12.80619575]\n",
      "doing  5\n",
      "done  False \n",
      "\n",
      "490  is the state\n",
      "[-13.33837223  -0.85358849  -0.94782094  -0.88083841  -5.29721635\n",
      " -12.80619575]\n",
      "doing  5\n",
      "done  False \n",
      "\n",
      "490  is the state\n",
      "[-13.33837223  -0.85358849  -0.94782094  -0.88083841  -5.29721635\n",
      " -12.80619575]\n",
      "doing  5\n",
      "done  False \n",
      "\n",
      "490  is the state\n",
      "[-13.33837223  -0.85358849  -0.94782094  -0.88083841  -5.29721635\n",
      " -12.80619575]\n",
      "doing  5\n",
      "done  False \n",
      "\n",
      "490  is the state\n",
      "[-13.33837223  -0.85358849  -0.94782094  -0.88083841  -5.29721635\n",
      " -12.80619575]\n",
      "doing  5\n",
      "done  False \n",
      "\n",
      "490  is the state\n",
      "[-13.33837223  -0.85358849  -0.94782094  -0.88083841  -5.29721635\n",
      " -12.80619575]\n",
      "doing  5\n",
      "done  False \n",
      "\n",
      "490  is the state\n",
      "[-13.33837223  -0.85358849  -0.94782094  -0.88083841  -5.29721635\n",
      " -12.80619575]\n",
      "doing  5\n",
      "done  False \n",
      "\n",
      "490  is the state\n",
      "[-13.33837223  -0.85358849  -0.94782094  -0.88083841  -5.29721635\n",
      " -12.80619575]\n",
      "doing  5\n",
      "done  False \n",
      "\n",
      "490  is the state\n",
      "[-13.33837223  -0.85358849  -0.94782094  -0.88083841  -5.29721635\n",
      " -12.80619575]\n",
      "doing  5\n",
      "done  False \n",
      "\n",
      "490  is the state\n",
      "[-13.33837223  -0.85358849  -0.94782094  -0.88083841  -5.29721635\n",
      " -12.80619575]\n",
      "doing  5\n",
      "done  False \n",
      "\n",
      "490  is the state\n",
      "[-13.33837223  -0.85358849  -0.94782094  -0.88083841  -5.29721635\n",
      " -12.80619575]\n",
      "doing  5\n",
      "done  False \n",
      "\n",
      "490  is the state\n",
      "[-13.33837223  -0.85358849  -0.94782094  -0.88083841  -5.29721635\n",
      " -12.80619575]\n",
      "doing  5\n",
      "done  False \n",
      "\n",
      "490  is the state\n",
      "[-13.33837223  -0.85358849  -0.94782094  -0.88083841  -5.29721635\n",
      " -12.80619575]\n",
      "doing  5\n",
      "done  False \n",
      "\n",
      "490  is the state\n",
      "[-13.33837223  -0.85358849  -0.94782094  -0.88083841  -5.29721635\n",
      " -12.80619575]\n",
      "doing  5\n",
      "done  False \n",
      "\n",
      "490  is the state\n",
      "[-13.33837223  -0.85358849  -0.94782094  -0.88083841  -5.29721635\n",
      " -12.80619575]\n",
      "doing  5\n",
      "done  False \n",
      "\n",
      "490  is the state\n",
      "[-13.33837223  -0.85358849  -0.94782094  -0.88083841  -5.29721635\n",
      " -12.80619575]\n",
      "doing  5\n",
      "done  False \n",
      "\n",
      "490  is the state\n",
      "[-13.33837223  -0.85358849  -0.94782094  -0.88083841  -5.29721635\n",
      " -12.80619575]\n",
      "doing  5\n",
      "done  False \n",
      "\n",
      "490  is the state\n",
      "[-13.33837223  -0.85358849  -0.94782094  -0.88083841  -5.29721635\n",
      " -12.80619575]\n",
      "doing  5\n",
      "done  False \n",
      "\n",
      "490  is the state\n",
      "[-13.33837223  -0.85358849  -0.94782094  -0.88083841  -5.29721635\n",
      " -12.80619575]\n",
      "doing  5\n",
      "done  False \n",
      "\n",
      "490  is the state\n",
      "[-13.33837223  -0.85358849  -0.94782094  -0.88083841  -5.29721635\n",
      " -12.80619575]\n",
      "doing  5\n",
      "done  False \n",
      "\n",
      "490  is the state\n",
      "[-13.33837223  -0.85358849  -0.94782094  -0.88083841  -5.29721635\n",
      " -12.80619575]\n",
      "doing  5\n",
      "done  False \n",
      "\n",
      "490  is the state\n",
      "[-13.33837223  -0.85358849  -0.94782094  -0.88083841  -5.29721635\n",
      " -12.80619575]\n",
      "doing  5\n",
      "done  False \n",
      "\n",
      "490  is the state\n",
      "[-13.33837223  -0.85358849  -0.94782094  -0.88083841  -5.29721635\n",
      " -12.80619575]\n",
      "doing  5\n",
      "done  False \n",
      "\n",
      "490  is the state\n",
      "[-13.33837223  -0.85358849  -0.94782094  -0.88083841  -5.29721635\n",
      " -12.80619575]\n",
      "doing  5\n",
      "done  False \n",
      "\n",
      "490  is the state\n",
      "[-13.33837223  -0.85358849  -0.94782094  -0.88083841  -5.29721635\n",
      " -12.80619575]\n",
      "doing  5\n",
      "done  False \n",
      "\n",
      "490  is the state\n",
      "[-13.33837223  -0.85358849  -0.94782094  -0.88083841  -5.29721635\n",
      " -12.80619575]\n",
      "doing  5\n",
      "done  False \n",
      "\n",
      "490  is the state\n",
      "[-13.33837223  -0.85358849  -0.94782094  -0.88083841  -5.29721635\n",
      " -12.80619575]\n",
      "doing  5\n",
      "done  False \n",
      "\n",
      "490  is the state\n",
      "[-13.33837223  -0.85358849  -0.94782094  -0.88083841  -5.29721635\n",
      " -12.80619575]\n",
      "doing  5\n",
      "done  False \n",
      "\n",
      "490  is the state\n",
      "[-13.33837223  -0.85358849  -0.94782094  -0.88083841  -5.29721635\n",
      " -12.80619575]\n",
      "doing  5\n",
      "done  False \n",
      "\n",
      "490  is the state\n",
      "[-13.33837223  -0.85358849  -0.94782094  -0.88083841  -5.29721635\n",
      " -12.80619575]\n",
      "doing  5\n",
      "done  False \n",
      "\n",
      "490  is the state\n",
      "[-13.33837223  -0.85358849  -0.94782094  -0.88083841  -5.29721635\n",
      " -12.80619575]\n",
      "doing  5\n",
      "done  False \n",
      "\n",
      "490  is the state\n",
      "[-13.33837223  -0.85358849  -0.94782094  -0.88083841  -5.29721635\n",
      " -12.80619575]\n",
      "doing  5\n",
      "done  False \n",
      "\n",
      "490  is the state\n",
      "[-13.33837223  -0.85358849  -0.94782094  -0.88083841  -5.29721635\n",
      " -12.80619575]\n",
      "doing  5\n",
      "done  False \n",
      "\n",
      "490  is the state\n",
      "[-13.33837223  -0.85358849  -0.94782094  -0.88083841  -5.29721635\n",
      " -12.80619575]\n",
      "doing  5\n",
      "done  False \n",
      "\n",
      "490  is the state\n",
      "[-13.33837223  -0.85358849  -0.94782094  -0.88083841  -5.29721635\n",
      " -12.80619575]\n",
      "doing  5\n",
      "done  False \n",
      "\n",
      "490  is the state\n",
      "[-13.33837223  -0.85358849  -0.94782094  -0.88083841  -5.29721635\n",
      " -12.80619575]\n",
      "doing  5\n",
      "done  False \n",
      "\n",
      "490  is the state\n",
      "[-13.33837223  -0.85358849  -0.94782094  -0.88083841  -5.29721635\n",
      " -12.80619575]\n",
      "doing  5\n",
      "done  False \n",
      "\n",
      "490  is the state\n",
      "[-13.33837223  -0.85358849  -0.94782094  -0.88083841  -5.29721635\n",
      " -12.80619575]\n",
      "doing  5\n",
      "done  False \n",
      "\n",
      "490  is the state\n",
      "[-13.33837223  -0.85358849  -0.94782094  -0.88083841  -5.29721635\n",
      " -12.80619575]\n",
      "doing  5\n",
      "done  False \n",
      "\n",
      "490  is the state\n",
      "[-13.33837223  -0.85358849  -0.94782094  -0.88083841  -5.29721635\n",
      " -12.80619575]\n",
      "doing  5\n",
      "done  False \n",
      "\n",
      "490  is the state\n",
      "[-13.33837223  -0.85358849  -0.94782094  -0.88083841  -5.29721635\n",
      " -12.80619575]\n",
      "doing  5\n",
      "done  False \n",
      "\n",
      "490  is the state\n",
      "[-13.33837223  -0.85358849  -0.94782094  -0.88083841  -5.29721635\n",
      " -12.80619575]\n",
      "doing  5\n",
      "done  False \n",
      "\n",
      "490  is the state\n",
      "[-13.33837223  -0.85358849  -0.94782094  -0.88083841  -5.29721635\n",
      " -12.80619575]\n",
      "doing  5\n",
      "done  False \n",
      "\n",
      "490  is the state\n",
      "[-13.33837223  -0.85358849  -0.94782094  -0.88083841  -5.29721635\n",
      " -12.80619575]\n",
      "doing  5\n",
      "done  False \n",
      "\n",
      "490  is the state\n",
      "[-13.33837223  -0.85358849  -0.94782094  -0.88083841  -5.29721635\n",
      " -12.80619575]\n",
      "doing  5\n",
      "done  False \n",
      "\n",
      "490  is the state\n",
      "[-13.33837223  -0.85358849  -0.94782094  -0.88083841  -5.29721635\n",
      " -12.80619575]\n",
      "doing  5\n",
      "done  False \n",
      "\n"
     ]
    },
    {
     "data": {
      "text/plain": [
       "100"
      ]
     },
     "execution_count": 81,
     "metadata": {},
     "output_type": "execute_result"
    }
   ],
   "source": [
    "predict(qt, 6,(4,5),(5,5),(0,0))"
   ]
  },
  {
   "cell_type": "code",
   "execution_count": 78,
   "metadata": {},
   "outputs": [
    {
     "data": {
      "text/plain": [
       "array([[-3.        , -0.1       , -3.        , -0.1       , 23.44876753,\n",
       "         0.        ],\n",
       "       [-5.4       , -0.545111  , -3.        , -0.5317116 , -1.        ,\n",
       "        -2.505     ],\n",
       "       [-3.        ,  0.7100199 , -3.        , -0.1       , -1.        ,\n",
       "        -3.        ],\n",
       "       ...,\n",
       "       [-0.1       , -3.        , -0.1       , -3.        , -0.10028202,\n",
       "        20.43481278],\n",
       "       [ 0.        ,  0.        ,  0.        ,  0.        ,  0.        ,\n",
       "         0.        ],\n",
       "       [ 0.        ,  0.        ,  0.        ,  0.        ,  0.        ,\n",
       "         0.        ]])"
      ]
     },
     "execution_count": 78,
     "metadata": {},
     "output_type": "execute_result"
    }
   ],
   "source": [
    "qt"
   ]
  },
  {
   "cell_type": "code",
   "execution_count": null,
   "metadata": {},
   "outputs": [],
   "source": []
  }
 ],
 "metadata": {
  "kernelspec": {
   "display_name": "Python 3",
   "language": "python",
   "name": "python3"
  },
  "language_info": {
   "codemirror_mode": {
    "name": "ipython",
    "version": 3
   },
   "file_extension": ".py",
   "mimetype": "text/x-python",
   "name": "python",
   "nbconvert_exporter": "python",
   "pygments_lexer": "ipython3",
   "version": "3.8.2"
  }
 },
 "nbformat": 4,
 "nbformat_minor": 4
}
