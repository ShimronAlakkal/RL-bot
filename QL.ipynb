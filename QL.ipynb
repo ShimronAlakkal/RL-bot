{
 "cells": [
  {
   "cell_type": "markdown",
   "metadata": {},
   "source": [
    "# Q-Learning based RL agent\n",
    "\n",
    "Requirements:\n",
    ">Numpy\n",
    "\n",
    "We're going to create two different environments for our QL agent \n",
    "> A pickup and delivery env \n",
    "\n",
    "> A maze env\n"
   ]
  },
  {
   "cell_type": "code",
   "execution_count": 21,
   "metadata": {},
   "outputs": [],
   "source": [
    "import numpy as np\n",
    "from random import randint, random, uniform"
   ]
  },
  {
   "cell_type": "markdown",
   "metadata": {},
   "source": [
    "# The Pickup and Delivery environment\n",
    "\n",
    "#### Actions:\n",
    "0 : move up\n",
    "\n",
    "1 : move down\n",
    "\n",
    "2 : move left\n",
    "\n",
    "3 : move right\n",
    "\n",
    "4 : pick up\n",
    "\n",
    "5 : deliver\n",
    "\n",
    "reward for legal moves : -1\n",
    "\n",
    "reward for trying to go off the boundary : -30\n",
    "\n",
    "reward for trying to pickup a thing when it has already been picked up or if it was not in place : -10\n",
    "\n",
    "reward for picking the item correctly : 50\n",
    "\n",
    "reward for deliverying correctly : 50\n",
    "\n",
    "reward for trying to deliver at the wrong place : -30"
   ]
  },
  {
   "cell_type": "code",
   "execution_count": 12,
   "metadata": {},
   "outputs": [],
   "source": [
    "class PDE:\n",
    "    \n",
    "    def __init__(self,size,pickup,delivery,agent_position):\n",
    "        self.size = size\n",
    "        self.pickup = pickup\n",
    "        self.delivery = delivery\n",
    "        self.position = agent_position\n",
    "        \n",
    "        self.item_picked_up = False \n",
    "        \n",
    "    def number_of_states_possible(self):\n",
    "        return self.size**4 * 2\n",
    "    \n",
    "    def state(self):\n",
    "        states = self.position[0]* self.size ** 3 * 2\n",
    "        states += self.position[1]* self.size ** 2 * 2\n",
    "        states += self.pickup[0]* self.size** 1 * 2\n",
    "        states += self.pickup[1]* 2\n",
    "\n",
    "        if self.item_picked_up:\n",
    "            states += 1\n",
    "        return states\n",
    "        \n",
    "    \n",
    "    def act(self,action):\n",
    "        (x,y) = self.position\n",
    "        \n",
    "        if action == 0:  # go up\n",
    "            if y == 0 : \n",
    "                return -30 , False \n",
    "            else :\n",
    "                self.position = (x,y-1)\n",
    "                return -1, False\n",
    "            \n",
    "        elif action == 1:  # go down\n",
    "            if y == self.size -1 :\n",
    "                return -30 , False \n",
    "            else :\n",
    "                self.position = (x,y+1)\n",
    "                return -1 , False\n",
    "            \n",
    "        elif action == 2:  # go left\n",
    "            if x == 0:\n",
    "                return -30 , False \n",
    "            else : \n",
    "                self.position = (x-1,y)\n",
    "                return -1, False \n",
    "             \n",
    "        elif action == 3:  # go right\n",
    "            if x == self.size -1:\n",
    "                return -30, False \n",
    "            else :\n",
    "                self.position = (x+1,y)\n",
    "                return -1 , False \n",
    "            \n",
    "        elif action == 4 :  # pickup item\n",
    "            if self.item_picked_up:\n",
    "                return -10 , False \n",
    "            elif (x,y) != self.pickup:\n",
    "                return -10, False \n",
    "            else:\n",
    "                self.item_picked_up = True\n",
    "                return 50, False \n",
    "            \n",
    "        else : # deliver item\n",
    "            if self.item_picked_up and self.position == self.delivery:\n",
    "                return 50 , True\n",
    "            elif self.item_picked_up and self.position != self.delivery:\n",
    "                self.pickup = (x,y)\n",
    "                self.item_picked_up = False\n",
    "                return -30 , False \n",
    "            else:\n",
    "                return -30, False \n",
    "            \n",
    "            \n",
    "    \n",
    "    def naive_solution_to_test_actions(self):\n",
    "        done = False \n",
    "        steps = 0 \n",
    "        while not done:\n",
    "            reward , done = self.act(randint(0,5))\n",
    "            steps += 1\n",
    "        return steps"
   ]
  },
  {
   "cell_type": "code",
   "execution_count": 13,
   "metadata": {},
   "outputs": [],
   "source": [
    "env = PDE(10,(0,0),(9,9),(9,0))"
   ]
  },
  {
   "cell_type": "code",
   "execution_count": 14,
   "metadata": {},
   "outputs": [
    {
     "data": {
      "text/plain": [
       "115025"
      ]
     },
     "execution_count": 14,
     "metadata": {},
     "output_type": "execute_result"
    }
   ],
   "source": [
    "env.naive_solution_to_test_actions()"
   ]
  },
  {
   "cell_type": "markdown",
   "metadata": {},
   "source": [
    "# There can be different states in the env\n",
    "What are the states variables here?? \n",
    "> the start , the end , item_picked_up , the agent position"
   ]
  },
  {
   "cell_type": "code",
   "execution_count": 15,
   "metadata": {},
   "outputs": [
    {
     "name": "stdout",
     "output_type": "stream",
     "text": [
      "19977\n"
     ]
    }
   ],
   "source": [
    "print(env.state())"
   ]
  },
  {
   "cell_type": "code",
   "execution_count": 16,
   "metadata": {},
   "outputs": [
    {
     "data": {
      "text/plain": [
       "20000"
      ]
     },
     "execution_count": 16,
     "metadata": {},
     "output_type": "execute_result"
    }
   ],
   "source": [
    "env.number_of_states_possible()"
   ]
  },
  {
   "cell_type": "markdown",
   "metadata": {},
   "source": [
    "#### Algorithm\n",
    "- Initialise the **Q-table** to all zeros\n",
    "- Iterate\n",
    "    - Agent is in state **state**.\n",
    "    - With probability **epsilon** choose to **explore**, else **exploit**.\n",
    "        - If **explore**, then choose a *random* **action**.\n",
    "        - If **exploit**, then choose the *best* **action** based on the current **Q-table**.\n",
    "    - Update the **Q-table** from the new **reward** to the previous state.\n",
    "    - Q[**state, action**] = (1 – **alpha**) * Q[**state, action**] + **alpha** * (**reward + gamma** * max(Q[**new_state**]) — Q[**state, action**])"
   ]
  },
  {
   "cell_type": "markdown",
   "metadata": {},
   "source": [
    "# Rough implementation of qlearning algo"
   ]
  },
  {
   "cell_type": "code",
   "execution_count": 17,
   "metadata": {},
   "outputs": [],
   "source": [
    "env = env"
   ]
  },
  {
   "cell_type": "code",
   "execution_count": 19,
   "metadata": {},
   "outputs": [],
   "source": [
    "epsilon = 0.1 \n",
    "gamma = 0.6\n",
    "alpha = 0.1"
   ]
  },
  {
   "cell_type": "code",
   "execution_count": 28,
   "metadata": {},
   "outputs": [],
   "source": [
    "ns = env.number_of_states_possible()\n",
    "na = 6 \n",
    "\n",
    "qtable = np.zeros((ns,na))\n",
    "\n",
    "for i in range(100):\n",
    "    \n",
    "    env = PDE(10,(0,0),(9,9),(9,0))\n",
    "    done = False\n",
    "    steps = 0 \n",
    "    while not done:\n",
    "        state = env.state()\n",
    "        if uniform(0,1) < epsilon:\n",
    "            action = randint(0,5)\n",
    "        else:\n",
    "            action = np.argmax(qtable[state])\n",
    "\n",
    "        # now that the action is set , act\n",
    "        reward , done = env.act(action)\n",
    "\n",
    "        # get the new state after action is done \n",
    "        new_state = env.state()\n",
    "\n",
    "        # now comes the beast in all this. the equation\n",
    "\n",
    "        qtable[state,action] = (1-alpha) * qtable[state,action] + alpha * (reward + (gamma * np.max(qtable[new_state]) )- qtable[state,action])\n",
    "        \n",
    "        steps += 1"
   ]
  },
  {
   "cell_type": "markdown",
   "metadata": {},
   "source": [
    "# Implementing the q_learnging function "
   ]
  },
  {
   "cell_type": "code",
   "execution_count": 34,
   "metadata": {},
   "outputs": [],
   "source": [
    "def q_learn(ns, na, size = 10 ,start = (0,6) ,end = (0,1) ,current_position = (0,4) , epsilon = 0.1 , alpha = 0.1, gamma = 0.99, epochs = 10,verbose =False):\n",
    "    \n",
    "    qtable = np.zeros((ns,na))\n",
    "    steps = [] \n",
    "    \n",
    "    for i in range(epochs):\n",
    "        \n",
    "        # Create a new state every time \n",
    "        \n",
    "        env = PDE(size,start,end,current_position)\n",
    "        done = False \n",
    "        \n",
    "        step = 0\n",
    "        while not done:\n",
    "\n",
    "            state = env.state()\n",
    "            \n",
    "            if uniform(0,1)< epsilon:\n",
    "                action = randint(0,5)\n",
    "            else:\n",
    "                action = np.argmax(qtable[state])\n",
    "            \n",
    "                # now that the action is set , act\n",
    "            reward , done = env.act(action)\n",
    "\n",
    "            # get the new state after action is done \n",
    "            new_state = env.state()\n",
    "\n",
    "            # now comes the beast in all this. the equation\n",
    "\n",
    "            qtable[state,action] = (1-alpha) * qtable[state,action] + alpha * (reward + (gamma * np.max(qtable[new_state]) )- qtable[state,action])\n",
    "\n",
    "            if done:\n",
    "                step += 1\n",
    "                steps.append(step)\n",
    "            else:\n",
    "                step += 1\n",
    "                \n",
    "    return steps\n"
   ]
  },
  {
   "cell_type": "code",
   "execution_count": 45,
   "metadata": {},
   "outputs": [
    {
     "data": {
      "text/plain": [
       "[911, 940, 442, 213, 266, 244, 377, 242, 574, 775]"
      ]
     },
     "execution_count": 45,
     "metadata": {},
     "output_type": "execute_result"
    }
   ],
   "source": [
    "training_on_10_epoch = q_learn(env.number_of_states_possible(),6)\n",
    "training_on_10_epoch"
   ]
  },
  {
   "cell_type": "code",
   "execution_count": 46,
   "metadata": {},
   "outputs": [
    {
     "name": "stdout",
     "output_type": "stream",
     "text": [
      "498.4\n"
     ]
    }
   ],
   "source": [
    "print(sum(training_on_10_epoch)/10)"
   ]
  },
  {
   "cell_type": "code",
   "execution_count": 38,
   "metadata": {},
   "outputs": [],
   "source": [
    "# training the model for 10000 epochs or episodes\n",
    "training_on_10k_epoch = q_learn(env.number_of_states_possible(),6,epochs=10000)"
   ]
  },
  {
   "cell_type": "code",
   "execution_count": 39,
   "metadata": {},
   "outputs": [
    {
     "name": "stdout",
     "output_type": "stream",
     "text": [
      "15.8852\n"
     ]
    }
   ],
   "source": [
    "print(sum(training_on_10k_epoch)/10000)"
   ]
  },
  {
   "cell_type": "markdown",
   "metadata": {},
   "source": [
    "# Plotting the data obtained from the model"
   ]
  },
  {
   "cell_type": "code",
   "execution_count": 40,
   "metadata": {},
   "outputs": [],
   "source": [
    "import matplotlib.pyplot as plt"
   ]
  },
  {
   "cell_type": "code",
   "execution_count": 47,
   "metadata": {},
   "outputs": [
    {
     "data": {
      "text/plain": [
       "[<matplotlib.lines.Line2D at 0x26256c1a520>]"
      ]
     },
     "execution_count": 47,
     "metadata": {},
     "output_type": "execute_result"
    },
    {
     "data": {
      "image/png": "[encoded data removed]",
      "text/plain": [
       "<Figure size 432x288 with 1 Axes>"
      ]
     },
     "metadata": {
      "needs_background": "light"
     },
     "output_type": "display_data"
    }
   ],
   "source": [
    "plt.plot(training_on_10_epoch)"
   ]
  },
  {
   "cell_type": "code",
   "execution_count": 44,
   "metadata": {},
   "outputs": [
    {
     "data": {
      "text/plain": [
       "[<matplotlib.lines.Line2D at 0x26256cfcb20>]"
      ]
     },
     "execution_count": 44,
     "metadata": {},
     "output_type": "execute_result"
    },
    {
     "data": {
      "image/png": "[encoded data removed]",
      "text/plain": [
       "<Figure size 432x288 with 1 Axes>"
      ]
     },
     "metadata": {
      "needs_background": "light"
     },
     "output_type": "display_data"
    }
   ],
   "source": [
    "plt.plot(training_on_10k_epoch)"
   ]
  },
  {
   "cell_type": "code",
   "execution_count": 48,
   "metadata": {},
   "outputs": [],
   "source": [
    "\n",
    "\n",
    "def save_model():\n",
    "    pass\n",
    "def load_model():\n",
    "    pass\n"
   ]
  },
  {
   "cell_type": "code",
   "execution_count": null,
   "metadata": {},
   "outputs": [],
   "source": []
  }
 ],
 "metadata": {
  "kernelspec": {
   "display_name": "Python 3",
   "language": "python",
   "name": "python3"
  },
  "language_info": {
   "codemirror_mode": {
    "name": "ipython",
    "version": 3
   },
   "file_extension": ".py",
   "mimetype": "text/x-python",
   "name": "python",
   "nbconvert_exporter": "python",
   "pygments_lexer": "ipython3",
   "version": "3.8.2"
  }
 },
 "nbformat": 4,
 "nbformat_minor": 4
}
