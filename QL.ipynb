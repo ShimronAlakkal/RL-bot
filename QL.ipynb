{
 "cells": [
  {
   "cell_type": "markdown",
   "metadata": {},
   "source": [
    "# Q-Learning based RL agent\n",
    "\n",
    "Requirements:\n",
    ">Numpy\n",
    "\n",
    "We're going to create two different environments for our QL agent \n",
    "> A pickup and delivery env \n",
    "\n",
    "> A maze env\n"
   ]
  },
  {
   "cell_type": "code",
   "execution_count": 23,
   "metadata": {},
   "outputs": [],
   "source": [
    "import numpy as np\n",
    "from random import randint, random"
   ]
  },
  {
   "cell_type": "markdown",
   "metadata": {},
   "source": [
    "# The Pickup and Delivery environment\n",
    "\n",
    "#### Actions:\n",
    "0 : move up\n",
    "\n",
    "1 : move down\n",
    "\n",
    "2 : move left\n",
    "\n",
    "3 : move right\n",
    "\n",
    "4 : pick up\n",
    "\n",
    "5 : deliver\n",
    "\n",
    "reward for legal moves : -1\n",
    "\n",
    "reward for trying to go off the boundary : -30\n",
    "\n",
    "reward for trying to pickup a thing when it has already been picked up or if it was not in place : -10\n",
    "\n",
    "reward for picking the item correctly : 50\n",
    "\n",
    "reward for deliverying correctly : 50\n",
    "\n",
    "reward for trying to deliver at the wrong place : -30"
   ]
  },
  {
   "cell_type": "code",
   "execution_count": 24,
   "metadata": {},
   "outputs": [],
   "source": [
    "class PDE:\n",
    "    \n",
    "    def __init__(self,size,pickup,delivery,agent_position):\n",
    "        self.size = size\n",
    "        self.pickup = pickup\n",
    "        self.delivery = delivery\n",
    "        self.position = agent_position\n",
    "        \n",
    "        self.item_picked_up = False \n",
    "        \n",
    "    def number_of_states_possible(self):\n",
    "        return self.size**4 * 2\n",
    "    \n",
    "    def state(self):\n",
    "        states = self.position[0]* self.size ** 3 * 2\n",
    "        states += self.position[1]* self.size ** 2 * 2\n",
    "        states += self.pickup[0]* self.size** 1 * 2\n",
    "        states += self.pickup[1]* 2\n",
    "\n",
    "        if self.item_picked_up:\n",
    "            states += 1\n",
    "        return states\n",
    "        \n",
    "    \n",
    "    def act(self,action):\n",
    "        (x,y) = self.position\n",
    "        \n",
    "        if action == 0:  # go up\n",
    "            if y == 0 : \n",
    "                return -30 , False \n",
    "            else :\n",
    "                self.position = (x,y-1)\n",
    "                return -1, False\n",
    "            \n",
    "        elif action == 1:  # go down\n",
    "            if y == self.size -1 :\n",
    "                return -30 , False \n",
    "            else :\n",
    "                self.position = (x,y+1)\n",
    "                return -1 , False\n",
    "            \n",
    "        elif action == 2:  # go left\n",
    "            if x == 0:\n",
    "                return -30 , False \n",
    "            else : \n",
    "                self.position = (x-1,y)\n",
    "                return -1, False \n",
    "             \n",
    "        elif action == 3:  # go right\n",
    "            if x == self.size -1:\n",
    "                return -30, False \n",
    "            else :\n",
    "                self.position = (x+1,y)\n",
    "                return -1 , False \n",
    "            \n",
    "        elif action == 4 :  # pickup item\n",
    "            if self.item_picked_up:\n",
    "                return -10 , False \n",
    "            elif (x,y) != self.pickup:\n",
    "                return -10, False \n",
    "            else:\n",
    "                self.item_picked_up = True\n",
    "                return 50, False \n",
    "            \n",
    "        else : # deliver item\n",
    "            if self.item_picked_up and self.position == self.delivery:\n",
    "                return 50 , True\n",
    "            elif self.item_picked_up and self.position != self.delivery:\n",
    "                self.pickup = (x,y)\n",
    "                self.item_picked_up = False\n",
    "                return -30 , False \n",
    "            else:\n",
    "                return -30, False \n",
    "            \n",
    "            \n",
    "    \n",
    "#     def naive_sloution_to_test_actions(self,):\n",
    "            "
   ]
  },
  {
   "cell_type": "code",
   "execution_count": 25,
   "metadata": {},
   "outputs": [],
   "source": [
    "env = PDE(10,(0,0),(9,9),(9,0))"
   ]
  },
  {
   "cell_type": "markdown",
   "metadata": {},
   "source": [
    "# There can be different states in the env\n",
    "What are the states variables here?? \n",
    "> the start , the end , item_picked_up , the agent position"
   ]
  },
  {
   "cell_type": "code",
   "execution_count": 26,
   "metadata": {},
   "outputs": [
    {
     "name": "stdout",
     "output_type": "stream",
     "text": [
      "18000\n"
     ]
    }
   ],
   "source": [
    "print(env.state())"
   ]
  },
  {
   "cell_type": "code",
   "execution_count": 27,
   "metadata": {},
   "outputs": [
    {
     "data": {
      "text/plain": [
       "20000"
      ]
     },
     "execution_count": 27,
     "metadata": {},
     "output_type": "execute_result"
    }
   ],
   "source": [
    "env.number_of_states_possible()"
   ]
  },
  {
   "cell_type": "markdown",
   "metadata": {},
   "source": [
    "#### Algorithm\n",
    "- Initialise the **Q-table** to all zeros\n",
    "- Iterate\n",
    "    - Agent is in state **state**.\n",
    "    - With probability **epsilon** choose to **explore**, else **exploit**.\n",
    "        - If **explore**, then choose a *random* **action**.\n",
    "        - If **exploit**, then choose the *best* **action** based on the current **Q-table**.\n",
    "    - Update the **Q-table** from the new **reward** to the previous state.\n",
    "    - Q[**state, action**] = (1 – **alpha**) * Q[**state, action**] + **alpha** * (**reward + gamma** * max(Q[**new_state**]) — Q[**state, action**])"
   ]
  },
  {
   "cell_type": "code",
   "execution_count": 28,
   "metadata": {},
   "outputs": [],
   "source": [
    "def init_q_table(ns, na):\n",
    "    return np.zeros((ns,na))"
   ]
  },
  {
   "cell_type": "code",
   "execution_count": 30,
   "metadata": {},
   "outputs": [],
   "source": [
    "class QLearn(PDE):\n",
    "    \n",
    "    def __init__(self, ns , na ):\n",
    "        self.ns = ns\n",
    "        self.na = na\n",
    "        self.qtable = np.zeros((self.ns,self.na))\n",
    "        \n",
    "    \n",
    "    def update_q_table(self,lr , dr , max_of_new_state , reward , state , action , qtable ): \n",
    "        self.qtable[state,action] = (1-lr) * self.qtable[state,action] + lr * (reward + dr * max_of_new_state - self.qtable[state,action] )\n",
    "    \n",
    "    \n",
    "    def fit(self, state , action,epsilon = 0.1 ,gamma = 0.6 , alpha = 0.1 ,verbose = False  ):\n",
    "        \n",
    "        done = False \n",
    "        while not done:\n",
    "            if random() < epsilon:\n",
    "                action = randint(0,5)\n",
    "            else:\n",
    "                action = np.argmax(qtable[state])\n",
    "            \n",
    "            \n",
    "    \n",
    "    \n",
    "    def save_q_table(self):\n",
    "        pass\n",
    "    \n",
    "    def use_q_tablq(self):\n",
    "        pass\n",
    "    \n",
    "            \n",
    "        "
   ]
  },
  {
   "cell_type": "code",
   "execution_count": null,
   "metadata": {},
   "outputs": [],
   "source": []
  },
  {
   "cell_type": "markdown",
   "metadata": {},
   "source": [
    "# Rough implementation of qlearning\n"
   ]
  },
  {
   "cell_type": "code",
   "execution_count": 31,
   "metadata": {},
   "outputs": [
    {
     "ename": "KeyboardInterrupt",
     "evalue": "",
     "output_type": "error",
     "traceback": [
      "\u001b[1;31m---------------------------------------------------------------------------\u001b[0m",
      "\u001b[1;31mKeyboardInterrupt\u001b[0m                         Traceback (most recent call last)",
      "\u001b[1;32m<ipython-input-31-cc7e7ba38fef>\u001b[0m in \u001b[0;36m<module>\u001b[1;34m\u001b[0m\n\u001b[0;32m     24\u001b[0m         \u001b[0mreward\u001b[0m \u001b[1;33m,\u001b[0m  \u001b[0mdone\u001b[0m \u001b[1;33m=\u001b[0m \u001b[0menv\u001b[0m\u001b[1;33m.\u001b[0m\u001b[0mact\u001b[0m\u001b[1;33m(\u001b[0m\u001b[0maction\u001b[0m\u001b[1;33m)\u001b[0m\u001b[1;33m\u001b[0m\u001b[1;33m\u001b[0m\u001b[0m\n\u001b[0;32m     25\u001b[0m         \u001b[0mnew_state\u001b[0m \u001b[1;33m=\u001b[0m \u001b[0menv\u001b[0m\u001b[1;33m.\u001b[0m\u001b[0mstate\u001b[0m\u001b[1;33m(\u001b[0m\u001b[1;33m)\u001b[0m\u001b[1;33m\u001b[0m\u001b[1;33m\u001b[0m\u001b[0m\n\u001b[1;32m---> 26\u001b[1;33m         \u001b[0mq_table\u001b[0m\u001b[1;33m[\u001b[0m\u001b[0mstate\u001b[0m\u001b[1;33m,\u001b[0m \u001b[0maction\u001b[0m \u001b[1;33m]\u001b[0m \u001b[1;33m=\u001b[0m \u001b[1;33m(\u001b[0m\u001b[1;36m1\u001b[0m\u001b[1;33m-\u001b[0m\u001b[0malpha\u001b[0m\u001b[1;33m)\u001b[0m \u001b[1;33m*\u001b[0m \u001b[0mq_table\u001b[0m\u001b[1;33m[\u001b[0m\u001b[0mstate\u001b[0m\u001b[1;33m,\u001b[0m \u001b[0maction\u001b[0m\u001b[1;33m]\u001b[0m \u001b[1;33m+\u001b[0m \u001b[0malpha\u001b[0m\u001b[1;33m*\u001b[0m\u001b[1;33m(\u001b[0m\u001b[0mreward\u001b[0m\u001b[1;33m+\u001b[0m\u001b[0mgamma\u001b[0m\u001b[1;33m*\u001b[0m \u001b[0mnp\u001b[0m\u001b[1;33m.\u001b[0m\u001b[0mmax\u001b[0m\u001b[1;33m(\u001b[0m\u001b[0mq_table\u001b[0m\u001b[1;33m[\u001b[0m\u001b[0mnew_state\u001b[0m\u001b[1;33m]\u001b[0m\u001b[1;33m)\u001b[0m \u001b[1;33m-\u001b[0m \u001b[0mq_table\u001b[0m\u001b[1;33m[\u001b[0m\u001b[0mstate\u001b[0m\u001b[1;33m,\u001b[0m\u001b[0maction\u001b[0m\u001b[1;33m]\u001b[0m\u001b[1;33m)\u001b[0m\u001b[1;33m\u001b[0m\u001b[1;33m\u001b[0m\u001b[0m\n\u001b[0m\u001b[0;32m     27\u001b[0m \u001b[1;33m\u001b[0m\u001b[0m\n\u001b[0;32m     28\u001b[0m         \u001b[0msteps\u001b[0m \u001b[1;33m+=\u001b[0m \u001b[1;36m1\u001b[0m\u001b[1;33m\u001b[0m\u001b[1;33m\u001b[0m\u001b[0m\n",
      "\u001b[1;32m<__array_function__ internals>\u001b[0m in \u001b[0;36mamax\u001b[1;34m(*args, **kwargs)\u001b[0m\n",
      "\u001b[1;32mc:\\users\\hp\\desktop\\ml\\env\\lib\\site-packages\\numpy\\core\\fromnumeric.py\u001b[0m in \u001b[0;36mamax\u001b[1;34m(a, axis, out, keepdims, initial, where)\u001b[0m\n\u001b[0;32m   2703\u001b[0m     \u001b[1;36m5\u001b[0m\u001b[1;33m\u001b[0m\u001b[1;33m\u001b[0m\u001b[0m\n\u001b[0;32m   2704\u001b[0m     \"\"\"\n\u001b[1;32m-> 2705\u001b[1;33m     return _wrapreduction(a, np.maximum, 'max', axis, None, out,\n\u001b[0m\u001b[0;32m   2706\u001b[0m                           keepdims=keepdims, initial=initial, where=where)\n\u001b[0;32m   2707\u001b[0m \u001b[1;33m\u001b[0m\u001b[0m\n",
      "\u001b[1;32mc:\\users\\hp\\desktop\\ml\\env\\lib\\site-packages\\numpy\\core\\fromnumeric.py\u001b[0m in \u001b[0;36m_wrapreduction\u001b[1;34m(obj, ufunc, method, axis, dtype, out, **kwargs)\u001b[0m\n\u001b[0;32m     85\u001b[0m                 \u001b[1;32mreturn\u001b[0m \u001b[0mreduction\u001b[0m\u001b[1;33m(\u001b[0m\u001b[0maxis\u001b[0m\u001b[1;33m=\u001b[0m\u001b[0maxis\u001b[0m\u001b[1;33m,\u001b[0m \u001b[0mout\u001b[0m\u001b[1;33m=\u001b[0m\u001b[0mout\u001b[0m\u001b[1;33m,\u001b[0m \u001b[1;33m**\u001b[0m\u001b[0mpasskwargs\u001b[0m\u001b[1;33m)\u001b[0m\u001b[1;33m\u001b[0m\u001b[1;33m\u001b[0m\u001b[0m\n\u001b[0;32m     86\u001b[0m \u001b[1;33m\u001b[0m\u001b[0m\n\u001b[1;32m---> 87\u001b[1;33m     \u001b[1;32mreturn\u001b[0m \u001b[0mufunc\u001b[0m\u001b[1;33m.\u001b[0m\u001b[0mreduce\u001b[0m\u001b[1;33m(\u001b[0m\u001b[0mobj\u001b[0m\u001b[1;33m,\u001b[0m \u001b[0maxis\u001b[0m\u001b[1;33m,\u001b[0m \u001b[0mdtype\u001b[0m\u001b[1;33m,\u001b[0m \u001b[0mout\u001b[0m\u001b[1;33m,\u001b[0m \u001b[1;33m**\u001b[0m\u001b[0mpasskwargs\u001b[0m\u001b[1;33m)\u001b[0m\u001b[1;33m\u001b[0m\u001b[1;33m\u001b[0m\u001b[0m\n\u001b[0m\u001b[0;32m     88\u001b[0m \u001b[1;33m\u001b[0m\u001b[0m\n\u001b[0;32m     89\u001b[0m \u001b[1;33m\u001b[0m\u001b[0m\n",
      "\u001b[1;31mKeyboardInterrupt\u001b[0m: "
     ]
    }
   ],
   "source": [
    "env = PDE(5,(0,0),(4,5),(3,0))\n",
    "done = False \n",
    "\n",
    "na = 6\n",
    "ns = env.number_of_states_possible()\n",
    "q_table = np.zeros((ns,na))\n",
    "\n",
    "epsilon = 0.1\n",
    "gamma = 0.1\n",
    "alpha = 0.9\n",
    "\n",
    "steps = 0 \n",
    "for i in range(1):\n",
    "    env = PDE(5,(0,0),(4,5),(3,0))\n",
    "    done = False \n",
    "    while not done :\n",
    "\n",
    "        state = env.state()\n",
    "\n",
    "        if random() < epsilon:\n",
    "            action = randint(0,5)\n",
    "        else:\n",
    "            action = np.argmax(q_table[state])\n",
    "        reward ,  done = env.act(action)\n",
    "        new_state = env.state()\n",
    "        q_table[state, action ] = (1-alpha) * q_table[state, action] + alpha*(reward+gamma* np.max(q_table[new_state]) - q_table[state,action])\n",
    "\n",
    "        steps += 1"
   ]
  },
  {
   "cell_type": "code",
   "execution_count": null,
   "metadata": {},
   "outputs": [],
   "source": [
    "print(steps)"
   ]
  }
 ],
 "metadata": {
  "kernelspec": {
   "display_name": "Python 3",
   "language": "python",
   "name": "python3"
  },
  "language_info": {
   "codemirror_mode": {
    "name": "ipython",
    "version": 3
   },
   "file_extension": ".py",
   "mimetype": "text/x-python",
   "name": "python",
   "nbconvert_exporter": "python",
   "pygments_lexer": "ipython3",
   "version": "3.8.2"
  }
 },
 "nbformat": 4,
 "nbformat_minor": 4
}
